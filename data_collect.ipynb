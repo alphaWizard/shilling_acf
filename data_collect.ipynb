{
  "nbformat": 4,
  "nbformat_minor": 0,
  "metadata": {
    "colab": {
      "name": "cns.ipynb",
      "provenance": [],
      "collapsed_sections": []
    },
    "kernelspec": {
      "name": "python3",
      "display_name": "Python 3"
    }
  },
  "cells": [
    {
      "cell_type": "code",
      "metadata": {
        "id": "zoZHQT5tC_c3",
        "colab_type": "code",
        "colab": {
          "base_uri": "https://localhost:8080/",
          "height": 118
        },
        "outputId": "24714b58-20cf-4fee-e6a6-2a8c92f23643"
      },
      "source": [
        "!git clone https://github.com/alphaWizard/shilling_acf.git"
      ],
      "execution_count": 1,
      "outputs": [
        {
          "output_type": "stream",
          "text": [
            "Cloning into 'shilling_acf'...\n",
            "remote: Enumerating objects: 31, done.\u001b[K\n",
            "remote: Counting objects:   3% (1/31)\u001b[K\rremote: Counting objects:   6% (2/31)\u001b[K\rremote: Counting objects:   9% (3/31)\u001b[K\rremote: Counting objects:  12% (4/31)\u001b[K\rremote: Counting objects:  16% (5/31)\u001b[K\rremote: Counting objects:  19% (6/31)\u001b[K\rremote: Counting objects:  22% (7/31)\u001b[K\rremote: Counting objects:  25% (8/31)\u001b[K\rremote: Counting objects:  29% (9/31)\u001b[K\rremote: Counting objects:  32% (10/31)\u001b[K\rremote: Counting objects:  35% (11/31)\u001b[K\rremote: Counting objects:  38% (12/31)\u001b[K\rremote: Counting objects:  41% (13/31)\u001b[K\rremote: Counting objects:  45% (14/31)\u001b[K\rremote: Counting objects:  48% (15/31)\u001b[K\rremote: Counting objects:  51% (16/31)\u001b[K\rremote: Counting objects:  54% (17/31)\u001b[K\rremote: Counting objects:  58% (18/31)\u001b[K\rremote: Counting objects:  61% (19/31)\u001b[K\rremote: Counting objects:  64% (20/31)\u001b[K\rremote: Counting objects:  67% (21/31)\u001b[K\rremote: Counting objects:  70% (22/31)\u001b[K\rremote: Counting objects:  74% (23/31)\u001b[K\rremote: Counting objects:  77% (24/31)\u001b[K\rremote: Counting objects:  80% (25/31)\u001b[K\rremote: Counting objects:  83% (26/31)\u001b[K\rremote: Counting objects:  87% (27/31)\u001b[K\rremote: Counting objects:  90% (28/31)\u001b[K\rremote: Counting objects:  93% (29/31)\u001b[K\rremote: Counting objects:  96% (30/31)\u001b[K\rremote: Counting objects: 100% (31/31)\u001b[K\rremote: Counting objects: 100% (31/31), done.\u001b[K\n",
            "remote: Compressing objects:   3% (1/30)\u001b[K\rremote: Compressing objects:   6% (2/30)\u001b[K\rremote: Compressing objects:  10% (3/30)\u001b[K\rremote: Compressing objects:  13% (4/30)\u001b[K\rremote: Compressing objects:  16% (5/30)\u001b[K\rremote: Compressing objects:  20% (6/30)\u001b[K\rremote: Compressing objects:  23% (7/30)\u001b[K\rremote: Compressing objects:  26% (8/30)\u001b[K\rremote: Compressing objects:  30% (9/30)\u001b[K\rremote: Compressing objects:  33% (10/30)\u001b[K\rremote: Compressing objects:  36% (11/30)\u001b[K\rremote: Compressing objects:  40% (12/30)\u001b[K\rremote: Compressing objects:  43% (13/30)\u001b[K\rremote: Compressing objects:  46% (14/30)\u001b[K\rremote: Compressing objects:  50% (15/30)\u001b[K\rremote: Compressing objects:  53% (16/30)\u001b[K\rremote: Compressing objects:  56% (17/30)\u001b[K\rremote: Compressing objects:  60% (18/30)\u001b[K\rremote: Compressing objects:  63% (19/30)\u001b[K\rremote: Compressing objects:  66% (20/30)\u001b[K\rremote: Compressing objects:  70% (21/30)\u001b[K\rremote: Compressing objects:  73% (22/30)\u001b[K\rremote: Compressing objects:  76% (23/30)\u001b[K\rremote: Compressing objects:  80% (24/30)\u001b[K\rremote: Compressing objects:  83% (25/30)\u001b[K\rremote: Compressing objects:  86% (26/30)\u001b[K\rremote: Compressing objects:  90% (27/30)\u001b[K\rremote: Compressing objects:  93% (28/30)\u001b[K\rremote: Compressing objects:  96% (29/30)\u001b[K\rremote: Compressing objects: 100% (30/30)\u001b[K\rremote: Compressing objects: 100% (30/30), done.\u001b[K\n",
            "Unpacking objects:   3% (1/31)   \rUnpacking objects:   6% (2/31)   \rUnpacking objects:   9% (3/31)   \rUnpacking objects:  12% (4/31)   \rUnpacking objects:  16% (5/31)   \rUnpacking objects:  19% (6/31)   \rUnpacking objects:  22% (7/31)   \rUnpacking objects:  25% (8/31)   \rUnpacking objects:  29% (9/31)   \rUnpacking objects:  32% (10/31)   \rUnpacking objects:  35% (11/31)   \rUnpacking objects:  38% (12/31)   \rUnpacking objects:  41% (13/31)   \rUnpacking objects:  45% (14/31)   \rremote: Total 31 (delta 12), reused 0 (delta 0), pack-reused 0\u001b[K\n",
            "Unpacking objects:  48% (15/31)   \rUnpacking objects:  51% (16/31)   \rUnpacking objects:  54% (17/31)   \rUnpacking objects:  58% (18/31)   \rUnpacking objects:  61% (19/31)   \rUnpacking objects:  64% (20/31)   \rUnpacking objects:  67% (21/31)   \rUnpacking objects:  70% (22/31)   \rUnpacking objects:  74% (23/31)   \rUnpacking objects:  77% (24/31)   \rUnpacking objects:  80% (25/31)   \rUnpacking objects:  83% (26/31)   \rUnpacking objects:  87% (27/31)   \rUnpacking objects:  90% (28/31)   \rUnpacking objects:  93% (29/31)   \rUnpacking objects:  96% (30/31)   \rUnpacking objects: 100% (31/31)   \rUnpacking objects: 100% (31/31), done.\n"
          ],
          "name": "stdout"
        }
      ]
    },
    {
      "cell_type": "code",
      "metadata": {
        "id": "f22oKVW7UBkE",
        "colab_type": "code",
        "colab": {}
      },
      "source": [
        "!python attack.py"
      ],
      "execution_count": 0,
      "outputs": []
    },
    {
      "cell_type": "code",
      "metadata": {
        "id": "DPT189AIY9o9",
        "colab_type": "code",
        "colab": {}
      },
      "source": [
        "--item based avg"
      ],
      "execution_count": 0,
      "outputs": []
    },
    {
      "cell_type": "code",
      "metadata": {
        "id": "wlV2BOm5WtfG",
        "colab_type": "code",
        "colab": {
          "base_uri": "https://localhost:8080/",
          "height": 67
        },
        "outputId": "b0f48972-6eb6-4b46-9ac7-20514b6f2b65"
      },
      "source": [
        "!python itemBased.py ratings_updated.csv toberated_attack.csv default result_before.csv"
      ],
      "execution_count": 7,
      "outputs": [
        {
          "output_type": "stream",
          "text": [
            "Exception ignored in: <_io.FileIO name='ratings_updated.csv' mode='rb' closefd=True>\n",
            "ResourceWarning: unclosed file <_io.TextIOWrapper name='ratings_updated.csv' mode='r' encoding='UTF-8'>\n",
            "Hello\n"
          ],
          "name": "stdout"
        }
      ]
    },
    {
      "cell_type": "code",
      "metadata": {
        "id": "YpzG4lvcXFGg",
        "colab_type": "code",
        "colab": {
          "base_uri": "https://localhost:8080/",
          "height": 84
        },
        "outputId": "78153c7c-23ec-4305-e2d0-38cd111f17ff"
      },
      "source": [
        "!python itemBased.py ratings_updated_avg_attack.csv toberated_attack.csv attack result_after.csv"
      ],
      "execution_count": 8,
      "outputs": [
        {
          "output_type": "stream",
          "text": [
            "ERROR! Session/line number was not unique in database. History logging moved to new session 59\n",
            "Exception ignored in: <_io.FileIO name='ratings_updated_avg_attack.csv' mode='rb' closefd=True>\n",
            "ResourceWarning: unclosed file <_io.TextIOWrapper name='ratings_updated_avg_attack.csv' mode='r' encoding='UTF-8'>\n",
            "Hello\n"
          ],
          "name": "stdout"
        }
      ]
    },
    {
      "cell_type": "code",
      "metadata": {
        "id": "sWG-lYmyXIrk",
        "colab_type": "code",
        "colab": {
          "base_uri": "https://localhost:8080/",
          "height": 34
        },
        "outputId": "8da17d77-975f-4240-820e-dd47a7468801"
      },
      "source": [
        "!python evaluation.py result_after.csv result_before.csv"
      ],
      "execution_count": 9,
      "outputs": [
        {
          "output_type": "stream",
          "text": [
            "Prediction shift for result_after.csv and result_before.csv is 0.09475579081122291\n"
          ],
          "name": "stdout"
        }
      ]
    },
    {
      "cell_type": "code",
      "metadata": {
        "id": "nbrmwVbtYOCr",
        "colab_type": "code",
        "colab": {}
      },
      "source": [
        "------ item based rand"
      ],
      "execution_count": 0,
      "outputs": []
    },
    {
      "cell_type": "code",
      "metadata": {
        "id": "SabbiwymYp0R",
        "colab_type": "code",
        "colab": {
          "base_uri": "https://localhost:8080/",
          "height": 67
        },
        "outputId": "a2aef1d9-7299-4463-dd68-222d95992ac1"
      },
      "source": [
        "!python itemBased.py ratings_updated_rand_attack.csv toberated_attack.csv attack result_after.csv"
      ],
      "execution_count": 11,
      "outputs": [
        {
          "output_type": "stream",
          "text": [
            "Exception ignored in: <_io.FileIO name='ratings_updated_rand_attack.csv' mode='rb' closefd=True>\n",
            "ResourceWarning: unclosed file <_io.TextIOWrapper name='ratings_updated_rand_attack.csv' mode='r' encoding='UTF-8'>\n",
            "Hello\n"
          ],
          "name": "stdout"
        }
      ]
    },
    {
      "cell_type": "code",
      "metadata": {
        "id": "I11B1FycY2bV",
        "colab_type": "code",
        "colab": {
          "base_uri": "https://localhost:8080/",
          "height": 34
        },
        "outputId": "4615ed4f-794d-4450-a08b-54af2e9908fe"
      },
      "source": [
        "!python evaluation.py result_after.csv result_before.csv"
      ],
      "execution_count": 13,
      "outputs": [
        {
          "output_type": "stream",
          "text": [
            "Prediction shift for result_after.csv and result_before.csv is 0.11335045793989774\n"
          ],
          "name": "stdout"
        }
      ]
    },
    {
      "cell_type": "code",
      "metadata": {
        "id": "dapHaJ7BYmfd",
        "colab_type": "code",
        "colab": {}
      },
      "source": [
        "------ userbased avg "
      ],
      "execution_count": 0,
      "outputs": []
    },
    {
      "cell_type": "code",
      "metadata": {
        "id": "PGQYAmIfYSG4",
        "colab_type": "code",
        "colab": {
          "base_uri": "https://localhost:8080/",
          "height": 67
        },
        "outputId": "2ee4a861-9ff0-46c7-827f-ff1138562c41"
      },
      "source": [
        "!python userBased.py ratings_updated.csv toberated_attack.csv default result_before.csv"
      ],
      "execution_count": 14,
      "outputs": [
        {
          "output_type": "stream",
          "text": [
            "Exception ignored in: <_io.FileIO name='ratings_updated.csv' mode='rb' closefd=True>\n",
            "ResourceWarning: unclosed file <_io.TextIOWrapper name='ratings_updated.csv' mode='r' encoding='UTF-8'>\n",
            "Hello User\n"
          ],
          "name": "stdout"
        }
      ]
    },
    {
      "cell_type": "code",
      "metadata": {
        "id": "x513j5pQYTYz",
        "colab_type": "code",
        "colab": {
          "base_uri": "https://localhost:8080/",
          "height": 67
        },
        "outputId": "4e1b1370-52f3-40cb-f748-874995edc72a"
      },
      "source": [
        "!python userBased.py ratings_updated_avg_attack.csv toberated_attack.csv attack result_after.csv"
      ],
      "execution_count": 15,
      "outputs": [
        {
          "output_type": "stream",
          "text": [
            "Exception ignored in: <_io.FileIO name='ratings_updated_avg_attack.csv' mode='rb' closefd=True>\n",
            "ResourceWarning: unclosed file <_io.TextIOWrapper name='ratings_updated_avg_attack.csv' mode='r' encoding='UTF-8'>\n",
            "Hello User\n"
          ],
          "name": "stdout"
        }
      ]
    },
    {
      "cell_type": "code",
      "metadata": {
        "id": "oC_nY-rpYhp4",
        "colab_type": "code",
        "colab": {
          "base_uri": "https://localhost:8080/",
          "height": 34
        },
        "outputId": "9d172cd3-0d47-4152-c132-5c28e2417fce"
      },
      "source": [
        "!python evaluation.py result_after.csv result_before.csv"
      ],
      "execution_count": 16,
      "outputs": [
        {
          "output_type": "stream",
          "text": [
            "Prediction shift for result_after.csv and result_before.csv is -1.1217413465871644\n"
          ],
          "name": "stdout"
        }
      ]
    },
    {
      "cell_type": "code",
      "metadata": {
        "id": "a6kp95xUZWGP",
        "colab_type": "code",
        "colab": {}
      },
      "source": [
        "--- user rand"
      ],
      "execution_count": 0,
      "outputs": []
    },
    {
      "cell_type": "code",
      "metadata": {
        "id": "oYaN_BnDZYVQ",
        "colab_type": "code",
        "colab": {
          "base_uri": "https://localhost:8080/",
          "height": 67
        },
        "outputId": "e0f19501-d8c5-4a37-b963-6a2b40938cd0"
      },
      "source": [
        "!python userBased.py ratings_updated_rand_attack.csv toberated_attack.csv attack result_after.csv"
      ],
      "execution_count": 17,
      "outputs": [
        {
          "output_type": "stream",
          "text": [
            "Exception ignored in: <_io.FileIO name='ratings_updated_rand_attack.csv' mode='rb' closefd=True>\n",
            "ResourceWarning: unclosed file <_io.TextIOWrapper name='ratings_updated_rand_attack.csv' mode='r' encoding='UTF-8'>\n",
            "Hello User\n"
          ],
          "name": "stdout"
        }
      ]
    },
    {
      "cell_type": "code",
      "metadata": {
        "id": "u-bjeeDCZZV2",
        "colab_type": "code",
        "colab": {
          "base_uri": "https://localhost:8080/",
          "height": 34
        },
        "outputId": "aae508b8-6026-4c5c-84fc-5258cd129435"
      },
      "source": [
        "!python evaluation.py result_after.csv result_before.csv"
      ],
      "execution_count": 18,
      "outputs": [
        {
          "output_type": "stream",
          "text": [
            "Prediction shift for result_after.csv and result_before.csv is -1.098869873009276\n"
          ],
          "name": "stdout"
        }
      ]
    },
    {
      "cell_type": "code",
      "metadata": {
        "id": "y5qsOt1ObL3f",
        "colab_type": "code",
        "colab": {}
      },
      "source": [
        "---hybrid avg"
      ],
      "execution_count": 0,
      "outputs": []
    },
    {
      "cell_type": "code",
      "metadata": {
        "id": "shihHnCjb4co",
        "colab_type": "code",
        "colab": {
          "base_uri": "https://localhost:8080/",
          "height": 152
        },
        "outputId": "bda16c45-a6f4-4e1e-b7a0-827319189018"
      },
      "source": [
        "# !python hybrid.py ratings_updated.csv toberated_attack.csv default result_before.csv"
      ],
      "execution_count": 19,
      "outputs": [
        {
          "output_type": "stream",
          "text": [
            "Traceback (most recent call last):\n",
            "  File \"hybrid.py\", line 437, in <module>\n",
            "    recommend_data = readingFile(sys.argv[1])\n",
            "  File \"hybrid.py\", line 23, in readingFile\n",
            "    e = [int(r[0]), int(r[1]), int(r[2])]\n",
            "ValueError: invalid literal for int() with base 10: '3.0\\n'\n",
            "Exception ignored in: <_io.FileIO name='ratings_updated.csv' mode='rb' closefd=True>\n",
            "ResourceWarning: unclosed file <_io.TextIOWrapper name='ratings_updated.csv' mode='r' encoding='UTF-8'>\n"
          ],
          "name": "stdout"
        }
      ]
    },
    {
      "cell_type": "code",
      "metadata": {
        "id": "aYD3uZBub5TV",
        "colab_type": "code",
        "colab": {}
      },
      "source": [
        "# !python hybrid.py ratings_updated_avg_attack.csv toberated_attack.csv attack result_after.csv"
      ],
      "execution_count": 0,
      "outputs": []
    },
    {
      "cell_type": "code",
      "metadata": {
        "id": "1k166cdhb-b8",
        "colab_type": "code",
        "colab": {}
      },
      "source": [
        "# !python evaluation.py result_after.csv result_before.csv"
      ],
      "execution_count": 0,
      "outputs": []
    },
    {
      "cell_type": "code",
      "metadata": {
        "id": "Zm1UuCAgiUQ8",
        "colab_type": "code",
        "colab": {}
      },
      "source": [
        "-- attack 15 bots \n"
      ],
      "execution_count": 0,
      "outputs": []
    },
    {
      "cell_type": "code",
      "metadata": {
        "id": "TU1UuenfienP",
        "colab_type": "code",
        "colab": {}
      },
      "source": [
        "!python attack.py 15 push"
      ],
      "execution_count": 0,
      "outputs": []
    },
    {
      "cell_type": "code",
      "metadata": {
        "id": "2kXJ5NKqiaYU",
        "colab_type": "code",
        "colab": {}
      },
      "source": [
        "--user based rand"
      ],
      "execution_count": 0,
      "outputs": []
    },
    {
      "cell_type": "code",
      "metadata": {
        "id": "YsInlNpqidan",
        "colab_type": "code",
        "colab": {
          "base_uri": "https://localhost:8080/",
          "height": 67
        },
        "outputId": "3e6b29c7-c42a-4eec-f8c8-4c98f9d4e733"
      },
      "source": [
        "!python userBased.py ratings_updated.csv toberated_attack.csv default result_before.csv"
      ],
      "execution_count": 23,
      "outputs": [
        {
          "output_type": "stream",
          "text": [
            "Exception ignored in: <_io.FileIO name='ratings_updated.csv' mode='rb' closefd=True>\n",
            "ResourceWarning: unclosed file <_io.TextIOWrapper name='ratings_updated.csv' mode='r' encoding='UTF-8'>\n",
            "Hello User\n"
          ],
          "name": "stdout"
        }
      ]
    },
    {
      "cell_type": "code",
      "metadata": {
        "id": "SHYUpsqhjKEE",
        "colab_type": "code",
        "colab": {
          "base_uri": "https://localhost:8080/",
          "height": 67
        },
        "outputId": "0a0c7ddd-7217-4fc7-f324-548a6e31fab4"
      },
      "source": [
        "!python userBased.py ratings_updated_rand_attack.csv toberated_attack.csv attack result_after.csv"
      ],
      "execution_count": 24,
      "outputs": [
        {
          "output_type": "stream",
          "text": [
            "Exception ignored in: <_io.FileIO name='ratings_updated_rand_attack.csv' mode='rb' closefd=True>\n",
            "ResourceWarning: unclosed file <_io.TextIOWrapper name='ratings_updated_rand_attack.csv' mode='r' encoding='UTF-8'>\n",
            "Hello User\n"
          ],
          "name": "stdout"
        }
      ]
    },
    {
      "cell_type": "code",
      "metadata": {
        "id": "OkQTflswjQ3A",
        "colab_type": "code",
        "colab": {
          "base_uri": "https://localhost:8080/",
          "height": 34
        },
        "outputId": "ce15bfe9-ebfe-43e9-8312-5cea45bf14b7"
      },
      "source": [
        "!python evaluation.py result_after.csv result_before.csv"
      ],
      "execution_count": 25,
      "outputs": [
        {
          "output_type": "stream",
          "text": [
            "Prediction shift for result_after.csv and result_before.csv is -0.8999878798806786\n"
          ],
          "name": "stdout"
        }
      ]
    },
    {
      "cell_type": "code",
      "metadata": {
        "id": "ZxVCD9BKjv7c",
        "colab_type": "code",
        "colab": {}
      },
      "source": [
        "--user avg"
      ],
      "execution_count": 0,
      "outputs": []
    },
    {
      "cell_type": "code",
      "metadata": {
        "id": "DBJ4ptlFjxqu",
        "colab_type": "code",
        "colab": {
          "base_uri": "https://localhost:8080/",
          "height": 67
        },
        "outputId": "1dd2d0a4-b5ab-4fe3-f50f-27c5b4b07b42"
      },
      "source": [
        "!python userBased.py ratings_updated_avg_attack.csv toberated_attack.csv attack result_after.csv"
      ],
      "execution_count": 26,
      "outputs": [
        {
          "output_type": "stream",
          "text": [
            "Exception ignored in: <_io.FileIO name='ratings_updated_avg_attack.csv' mode='rb' closefd=True>\n",
            "ResourceWarning: unclosed file <_io.TextIOWrapper name='ratings_updated_avg_attack.csv' mode='r' encoding='UTF-8'>\n",
            "Hello User\n"
          ],
          "name": "stdout"
        }
      ]
    },
    {
      "cell_type": "code",
      "metadata": {
        "id": "AIbAWvTTj0ua",
        "colab_type": "code",
        "colab": {
          "base_uri": "https://localhost:8080/",
          "height": 34
        },
        "outputId": "7f0421b5-d22b-4c30-a5b7-3b341ef97d34"
      },
      "source": [
        "!python evaluation.py result_after.csv result_before.csv"
      ],
      "execution_count": 27,
      "outputs": [
        {
          "output_type": "stream",
          "text": [
            "Prediction shift for result_after.csv and result_before.csv is -0.9217786327381945\n"
          ],
          "name": "stdout"
        }
      ]
    },
    {
      "cell_type": "code",
      "metadata": {
        "id": "MhMpm_9ckJT4",
        "colab_type": "code",
        "colab": {}
      },
      "source": [
        "#attack 15\n",
        "!python itemBased.py ratings_updated.csv toberated_attack.csv default result_before.csv\n",
        "!python itemBased.py ratings_updated_rand_attack.csv toberated_attack.csv attack result_after.csv\n",
        "!python evaluation.py result_after.csv result_before.csv\n",
        "\n",
        "!python itemBased.py ratings_updated_avg_attack.csv toberated_attack.csv attack result_after.csv\n",
        "!python evaluation.py result_after.csv result_before.csv\n",
        "\n"
      ],
      "execution_count": 0,
      "outputs": []
    },
    {
      "cell_type": "code",
      "metadata": {
        "id": "HkOPPUywrjci",
        "colab_type": "code",
        "colab": {
          "base_uri": "https://localhost:8080/",
          "height": 389
        },
        "outputId": "48c20c35-8244-43f1-bd17-e25d41162bf6"
      },
      "source": [
        "#--attack 50 push\n",
        "!python attack.py 50 push\n",
        "!python itemBased.py ratings_updated.csv toberated_attack.csv default result_before_i.csv 0\n",
        "!python userBased.py ratings_updated.csv toberated_attack.csv default result_before_u.csv 0\n",
        "\n",
        "# !python itemBased.py ratings_updated.csv toberated_attack.csv default result_before.csv\n",
        "!python itemBased.py ratings_updated_rand_attack.csv toberated_attack.csv attack result_after.csv 50\n",
        "!python evaluation.py result_after.csv result_before_i.csv\n",
        "\n",
        "!python itemBased.py ratings_updated_avg_attack.csv toberated_attack.csv attack result_after.csv 50\n",
        "!python evaluation.py result_after.csv result_before_i.csv\n",
        "\n",
        "\n",
        "# !python userBased.py ratings_updated.csv toberated_attack.csv default result_before.csv\n",
        "!python userBased.py ratings_updated_rand_attack.csv toberated_attack.csv attack result_after.csv 50\n",
        "!python evaluation.py result_after.csv result_before_u.csv\n",
        "\n",
        "!python userBased.py ratings_updated_avg_attack.csv toberated_attack.csv attack result_after.csv 50\n",
        "!python evaluation.py result_after.csv result_before_u.csv"
      ],
      "execution_count": 40,
      "outputs": [
        {
          "output_type": "stream",
          "text": [
            "Exception ignored in: <_io.FileIO name='ratings_updated.csv' mode='rb' closefd=True>\n",
            "ResourceWarning: unclosed file <_io.TextIOWrapper name='ratings_updated.csv' mode='r' encoding='UTF-8'>\n",
            "Hello\n",
            "Exception ignored in: <_io.FileIO name='ratings_updated.csv' mode='rb' closefd=True>\n",
            "ResourceWarning: unclosed file <_io.TextIOWrapper name='ratings_updated.csv' mode='r' encoding='UTF-8'>\n",
            "Hello User\n",
            "Exception ignored in: <_io.FileIO name='ratings_updated_rand_attack.csv' mode='rb' closefd=True>\n",
            "ResourceWarning: unclosed file <_io.TextIOWrapper name='ratings_updated_rand_attack.csv' mode='r' encoding='UTF-8'>\n",
            "Hello\n",
            "Prediction shift for result_after.csv and result_before_i.csv is 0.11063263624442016\n",
            "Exception ignored in: <_io.FileIO name='ratings_updated_avg_attack.csv' mode='rb' closefd=True>\n",
            "ResourceWarning: unclosed file <_io.TextIOWrapper name='ratings_updated_avg_attack.csv' mode='r' encoding='UTF-8'>\n",
            "Hello\n",
            "Prediction shift for result_after.csv and result_before_i.csv is 0.09373451151731942\n",
            "Exception ignored in: <_io.FileIO name='ratings_updated_rand_attack.csv' mode='rb' closefd=True>\n",
            "ResourceWarning: unclosed file <_io.TextIOWrapper name='ratings_updated_rand_attack.csv' mode='r' encoding='UTF-8'>\n",
            "Hello User\n",
            "Prediction shift for result_after.csv and result_before_u.csv is -1.2391349755132481\n",
            "Exception ignored in: <_io.FileIO name='ratings_updated_avg_attack.csv' mode='rb' closefd=True>\n",
            "ResourceWarning: unclosed file <_io.TextIOWrapper name='ratings_updated_avg_attack.csv' mode='r' encoding='UTF-8'>\n",
            "Hello User\n",
            "Prediction shift for result_after.csv and result_before_u.csv is -1.2586812182894875\n"
          ],
          "name": "stdout"
        }
      ]
    },
    {
      "cell_type": "code",
      "metadata": {
        "id": "-xGX5bQjotbJ",
        "colab_type": "code",
        "colab": {
          "base_uri": "https://localhost:8080/",
          "height": 287
        },
        "outputId": "6cf58722-630f-46b1-a64c-b8acca37bcae"
      },
      "source": [
        "!python attack.py 30 nuke\n",
        "\n",
        "# !python itemBased.py ratings_updated.csv toberated_attack.csv default result_before.csv\n",
        "!python itemBased.py ratings_updated_rand_attack.csv toberated_attack.csv attack result_after.csv 30\n",
        "!python evaluation.py result_after.csv result_before_i.csv\n",
        "\n",
        "!python itemBased.py ratings_updated_avg_attack.csv toberated_attack.csv attack result_after.csv 30\n",
        "!python evaluation.py result_after.csv result_before_i.csv\n",
        "\n",
        "\n",
        "# !python userBased.py ratings_updated.csv toberated_attack.csv default result_before.csv\n",
        "!python userBased.py ratings_updated_rand_attack.csv toberated_attack.csv attack result_after.csv 30\n",
        "!python evaluation.py result_after.csv result_before_u.csv\n",
        "\n",
        "!python userBased.py ratings_updated_avg_attack.csv toberated_attack.csv attack result_after.csv 30\n",
        "!python evaluation.py result_after.csv result_before_u.csv"
      ],
      "execution_count": 41,
      "outputs": [
        {
          "output_type": "stream",
          "text": [
            "Exception ignored in: <_io.FileIO name='ratings_updated_rand_attack.csv' mode='rb' closefd=True>\n",
            "ResourceWarning: unclosed file <_io.TextIOWrapper name='ratings_updated_rand_attack.csv' mode='r' encoding='UTF-8'>\n",
            "Hello\n",
            "Prediction shift for result_after.csv and result_before_i.csv is 0.07667853800580361\n",
            "Exception ignored in: <_io.FileIO name='ratings_updated_avg_attack.csv' mode='rb' closefd=True>\n",
            "ResourceWarning: unclosed file <_io.TextIOWrapper name='ratings_updated_avg_attack.csv' mode='r' encoding='UTF-8'>\n",
            "Hello\n",
            "Prediction shift for result_after.csv and result_before_i.csv is 0.06537370051160468\n",
            "Exception ignored in: <_io.FileIO name='ratings_updated_rand_attack.csv' mode='rb' closefd=True>\n",
            "ResourceWarning: unclosed file <_io.TextIOWrapper name='ratings_updated_rand_attack.csv' mode='r' encoding='UTF-8'>\n",
            "Hello User\n",
            "Prediction shift for result_after.csv and result_before_u.csv is 1.0507853162268619\n",
            "Exception ignored in: <_io.FileIO name='ratings_updated_avg_attack.csv' mode='rb' closefd=True>\n",
            "ResourceWarning: unclosed file <_io.TextIOWrapper name='ratings_updated_avg_attack.csv' mode='r' encoding='UTF-8'>\n",
            "Hello User\n",
            "Prediction shift for result_after.csv and result_before_u.csv is 1.0794032279524715\n"
          ],
          "name": "stdout"
        }
      ]
    },
    {
      "cell_type": "code",
      "metadata": {
        "id": "GlM3OGoh-SCQ",
        "colab_type": "code",
        "colab": {
          "base_uri": "https://localhost:8080/",
          "height": 287
        },
        "outputId": "82dda778-13e4-4534-eeac-d610773a9853"
      },
      "source": [
        "!python attack.py 50 nuke\n",
        "\n",
        "# !python itemBased.py ratings_updated.csv toberated_attack.csv default result_before.csv\n",
        "!python itemBased.py ratings_updated_rand_attack.csv toberated_attack.csv attack result_after.csv 50\n",
        "!python evaluation.py result_after.csv result_before_i.csv\n",
        "\n",
        "!python itemBased.py ratings_updated_avg_attack.csv toberated_attack.csv attack result_after.csv 50\n",
        "!python evaluation.py result_after.csv result_before_i.csv\n",
        "\n",
        "\n",
        "# !python userBased.py ratings_updated.csv toberated_attack.csv default result_before.csv\n",
        "!python userBased.py ratings_updated_rand_attack.csv toberated_attack.csv attack result_after.csv 50\n",
        "!python evaluation.py result_after.csv result_before_u.csv\n",
        "\n",
        "!python userBased.py ratings_updated_avg_attack.csv toberated_attack.csv attack result_after.csv 50\n",
        "!python evaluation.py result_after.csv result_before_u.csv"
      ],
      "execution_count": 42,
      "outputs": [
        {
          "output_type": "stream",
          "text": [
            "Exception ignored in: <_io.FileIO name='ratings_updated_rand_attack.csv' mode='rb' closefd=True>\n",
            "ResourceWarning: unclosed file <_io.TextIOWrapper name='ratings_updated_rand_attack.csv' mode='r' encoding='UTF-8'>\n",
            "Hello\n",
            "Prediction shift for result_after.csv and result_before_i.csv is 0.07945435351463168\n",
            "Exception ignored in: <_io.FileIO name='ratings_updated_avg_attack.csv' mode='rb' closefd=True>\n",
            "ResourceWarning: unclosed file <_io.TextIOWrapper name='ratings_updated_avg_attack.csv' mode='r' encoding='UTF-8'>\n",
            "Hello\n",
            "Prediction shift for result_after.csv and result_before_i.csv is 0.06776036074950502\n",
            "Exception ignored in: <_io.FileIO name='ratings_updated_rand_attack.csv' mode='rb' closefd=True>\n",
            "ResourceWarning: unclosed file <_io.TextIOWrapper name='ratings_updated_rand_attack.csv' mode='r' encoding='UTF-8'>\n",
            "Hello User\n",
            "Prediction shift for result_after.csv and result_before_u.csv is 1.2374298830477575\n",
            "Exception ignored in: <_io.FileIO name='ratings_updated_avg_attack.csv' mode='rb' closefd=True>\n",
            "ResourceWarning: unclosed file <_io.TextIOWrapper name='ratings_updated_avg_attack.csv' mode='r' encoding='UTF-8'>\n",
            "Hello User\n",
            "Prediction shift for result_after.csv and result_before_u.csv is 1.266288682844622\n"
          ],
          "name": "stdout"
        }
      ]
    },
    {
      "cell_type": "code",
      "metadata": {
        "id": "STy1X-RX-q3t",
        "colab_type": "code",
        "colab": {
          "base_uri": "https://localhost:8080/",
          "height": 287
        },
        "outputId": "1f9e27dd-897c-47d6-bbcd-3412b3d023ff"
      },
      "source": [
        "!python attack.py 15 nuke\n",
        "\n",
        "# !python itemBased.py ratings_updated.csv toberated_attack.csv default result_before.csv\n",
        "!python itemBased.py ratings_updated_rand_attack.csv toberated_attack.csv attack result_after.csv 50\n",
        "!python evaluation.py result_after.csv result_before_i.csv\n",
        "\n",
        "!python itemBased.py ratings_updated_avg_attack.csv toberated_attack.csv attack result_after.csv 50\n",
        "!python evaluation.py result_after.csv result_before_i.csv\n",
        "\n",
        "\n",
        "# !python userBased.py ratings_updated.csv toberated_attack.csv default result_before.csv\n",
        "!python userBased.py ratings_updated_rand_attack.csv toberated_attack.csv attack result_after.csv 50\n",
        "!python evaluation.py result_after.csv result_before_u.csv\n",
        "\n",
        "!python userBased.py ratings_updated_avg_attack.csv toberated_attack.csv attack result_after.csv 50\n",
        "!python evaluation.py result_after.csv result_before_u.csv"
      ],
      "execution_count": 43,
      "outputs": [
        {
          "output_type": "stream",
          "text": [
            "Exception ignored in: <_io.FileIO name='ratings_updated_rand_attack.csv' mode='rb' closefd=True>\n",
            "ResourceWarning: unclosed file <_io.TextIOWrapper name='ratings_updated_rand_attack.csv' mode='r' encoding='UTF-8'>\n",
            "Hello\n",
            "Prediction shift for result_after.csv and result_before_i.csv is 0.0723661712083568\n",
            "Exception ignored in: <_io.FileIO name='ratings_updated_avg_attack.csv' mode='rb' closefd=True>\n",
            "ResourceWarning: unclosed file <_io.TextIOWrapper name='ratings_updated_avg_attack.csv' mode='r' encoding='UTF-8'>\n",
            "Hello\n",
            "Prediction shift for result_after.csv and result_before_i.csv is 0.05970973625267138\n",
            "Exception ignored in: <_io.FileIO name='ratings_updated_rand_attack.csv' mode='rb' closefd=True>\n",
            "ResourceWarning: unclosed file <_io.TextIOWrapper name='ratings_updated_rand_attack.csv' mode='r' encoding='UTF-8'>\n",
            "Hello User\n",
            "Prediction shift for result_after.csv and result_before_u.csv is 0.8111777845444645\n",
            "Exception ignored in: <_io.FileIO name='ratings_updated_avg_attack.csv' mode='rb' closefd=True>\n",
            "ResourceWarning: unclosed file <_io.TextIOWrapper name='ratings_updated_avg_attack.csv' mode='r' encoding='UTF-8'>\n",
            "Hello User\n",
            "Prediction shift for result_after.csv and result_before_u.csv is 0.8364021303575178\n"
          ],
          "name": "stdout"
        }
      ]
    }
  ]
}